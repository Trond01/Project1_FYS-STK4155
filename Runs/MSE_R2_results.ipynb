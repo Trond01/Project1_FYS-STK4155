{
 "cells": [
  {
   "cell_type": "markdown",
   "metadata": {},
   "source": [
    "### Import interface funtions and create path"
   ]
  },
  {
   "cell_type": "code",
   "execution_count": null,
   "metadata": {},
   "outputs": [],
   "source": [
    "import sys, os\n",
    "sys.path.append(os.path.abspath(os.path.join('..')))\n",
    "\n",
    "\n",
    "from Code.experiments import plot_MSE_R2_experiment\n",
    "from Code.regression import train_OLS, train_RIDGE, train_LASSO\n",
    "from Code.utilities import path_to_results, sample_terrain_data, number_of_features\n",
    "\n",
    "# Set the default font size for text elements (e.g., titles, labels)\n",
    "import matplotlib as mpl\n",
    "mpl.rcParams['font.size'] = 16  # Change 14 to your desired font size\n",
    "mpl.rcParams['legend.fontsize'] = 14"
   ]
  },
  {
   "cell_type": "markdown",
   "metadata": {},
   "source": [
    "### Franke without noise"
   ]
  },
  {
   "cell_type": "code",
   "execution_count": null,
   "metadata": {},
   "outputs": [],
   "source": [
    "n_points = 101\n",
    "max_deg = 5\n",
    "n_features = number_of_features(max_deg)\n",
    "\n",
    "lam_RIDGE = 0.001\n",
    "lam_LASSO = 0.001\n",
    "\n",
    "# Franke without noise\n",
    "print(\"OLS\")\n",
    "_ = plot_MSE_R2_experiment(train_method=train_OLS,  filename=path_to_results(f\"MSE_R2_franke_OLS___N{n_points}_d{max_deg}.png\"),num_points=n_points, num_features =n_features)\n",
    "print(\"Ridge\")\n",
    "_ = plot_MSE_R2_experiment(train_method=train_RIDGE,filename=path_to_results(f\"MSE_R2_franke_RIDGE___N{n_points}_d{max_deg}_lam{lam_RIDGE}.png\"),num_points=n_points, num_features =n_features, lam = lam_RIDGE)\n",
    "print(\"Lasso\")\n",
    "_ = plot_MSE_R2_experiment(train_method=train_LASSO,filename=path_to_results(f\"MSE_R2_franke_LASSO___N{n_points}_d{max_deg}_lam{lam_LASSO}.png\"),num_points=n_points, num_features =n_features, lam = lam_LASSO)"
   ]
  },
  {
   "cell_type": "markdown",
   "metadata": {},
   "source": [
    "### Franke with noise"
   ]
  },
  {
   "cell_type": "code",
   "execution_count": null,
   "metadata": {},
   "outputs": [],
   "source": [
    "sigma2 = 0.01   \n",
    "\n",
    "# Franke with noise\n",
    "print(\"OLS noise\")\n",
    "_ = plot_MSE_R2_experiment(train_method=train_OLS,  filename=path_to_results(f\"MSE_R2_franke_OLS___N{n_points}_s2={sigma2}_d{max_deg}.png\"),num_points=n_points, num_features =n_features, sigma2=sigma2)\n",
    "print(\"Ridge noise\")\n",
    "_ = plot_MSE_R2_experiment(train_method=train_RIDGE,filename=path_to_results(f\"MSE_R2_franke_RIDGE___N{n_points}_s2={sigma2}_d{max_deg}_lam{lam_RIDGE}.png\"),num_points=n_points, num_features =n_features, lam = lam_RIDGE, sigma2=sigma2)\n",
    "print(\"Lasso noise\")\n",
    "_ = plot_MSE_R2_experiment(train_method=train_LASSO,filename=path_to_results(f\"MSE_R2_franke_LASSO___N{n_points}_s2={sigma2}_d{max_deg}_lam{lam_LASSO}.png\"),num_points=n_points, num_features =n_features, lam = lam_LASSO, sigma2=sigma2)\n",
    "\n"
   ]
  },
  {
   "cell_type": "markdown",
   "metadata": {},
   "source": [
    "### Terrain"
   ]
  },
  {
   "cell_type": "code",
   "execution_count": null,
   "metadata": {},
   "outputs": [],
   "source": [
    "# Terrain\n",
    "data = sample_terrain_data(n_points)\n",
    "print(\"OLS terrain\")\n",
    "_ = plot_MSE_R2_experiment(train_method=train_OLS,   data=data, filename=path_to_results(f\"MSE_R2_terrain_OLS___N{n_points}_d{max_deg}.png\"),num_points=n_points, num_features =n_features)\n",
    "print(\"Ridge terrain\")\n",
    "_ = plot_MSE_R2_experiment(train_method=train_RIDGE, data=data, filename=path_to_results(f\"MSE_R2_terrain_RIDGE___N{n_points}_d{max_deg}_lam{lam_RIDGE}.png\"),num_points=n_points, num_features =n_features, lam = lam_RIDGE)\n",
    "print(\"Lasso terrain\")\n",
    "_ = plot_MSE_R2_experiment(train_method=train_LASSO, data=data, filename=path_to_results(f\"MSE_R2_terrain_LASSO___N{n_points}_d{max_deg}_lam{lam_LASSO}.png\"),num_points=n_points, num_features =n_features, lam = lam_LASSO)\n"
   ]
  }
 ],
 "metadata": {
  "kernelspec": {
   "display_name": ".venv",
   "language": "python",
   "name": "python3"
  },
  "language_info": {
   "codemirror_mode": {
    "name": "ipython",
    "version": 3
   },
   "file_extension": ".py",
   "mimetype": "text/x-python",
   "name": "python",
   "nbconvert_exporter": "python",
   "pygments_lexer": "ipython3",
   "version": "3.10.11"
  },
  "orig_nbformat": 4
 },
 "nbformat": 4,
 "nbformat_minor": 2
}
