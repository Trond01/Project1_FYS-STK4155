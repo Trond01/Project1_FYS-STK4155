{
 "cells": [
  {
   "cell_type": "code",
   "execution_count": 3,
   "metadata": {},
   "outputs": [
    {
     "ename": "ModuleNotFoundError",
     "evalue": "No module named 'sklearn'",
     "output_type": "error",
     "traceback": [
      "\u001b[1;31m---------------------------------------------------------------------------\u001b[0m",
      "\u001b[1;31mModuleNotFoundError\u001b[0m                       Traceback (most recent call last)",
      "\u001b[1;32mc:\\Users\\Trond\\OneDrive\\7. semester\\FYS-STK3155 - Anvendt dataanalyse og maskinlæring\\Projects\\Project1_FYS-STK4155\\Runs\\abc.ipynb Cell 1\u001b[0m line \u001b[0;36m4\n\u001b[0;32m      <a href='vscode-notebook-cell:/c%3A/Users/Trond/OneDrive/7.%20semester/FYS-STK3155%20-%20Anvendt%20dataanalyse%20og%20maskinl%C3%A6ring/Projects/Project1_FYS-STK4155/Runs/abc.ipynb#W0sZmlsZQ%3D%3D?line=0'>1</a>\u001b[0m \u001b[39mimport\u001b[39;00m \u001b[39msys\u001b[39;00m\u001b[39m,\u001b[39m \u001b[39mos\u001b[39;00m\n\u001b[0;32m      <a href='vscode-notebook-cell:/c%3A/Users/Trond/OneDrive/7.%20semester/FYS-STK3155%20-%20Anvendt%20dataanalyse%20og%20maskinl%C3%A6ring/Projects/Project1_FYS-STK4155/Runs/abc.ipynb#W0sZmlsZQ%3D%3D?line=2'>3</a>\u001b[0m sys\u001b[39m.\u001b[39mpath\u001b[39m.\u001b[39mappend(os\u001b[39m.\u001b[39mpath\u001b[39m.\u001b[39mabspath(os\u001b[39m.\u001b[39mpath\u001b[39m.\u001b[39mjoin(\u001b[39m'\u001b[39m\u001b[39m..\u001b[39m\u001b[39m'\u001b[39m)))\n\u001b[1;32m----> <a href='vscode-notebook-cell:/c%3A/Users/Trond/OneDrive/7.%20semester/FYS-STK3155%20-%20Anvendt%20dataanalyse%20og%20maskinl%C3%A6ring/Projects/Project1_FYS-STK4155/Runs/abc.ipynb#W0sZmlsZQ%3D%3D?line=3'>4</a>\u001b[0m \u001b[39mfrom\u001b[39;00m \u001b[39mCode\u001b[39;00m\u001b[39m.\u001b[39;00m\u001b[39mbootstrap\u001b[39;00m \u001b[39mimport\u001b[39;00m tradeoff_experiment\n\u001b[0;32m      <a href='vscode-notebook-cell:/c%3A/Users/Trond/OneDrive/7.%20semester/FYS-STK3155%20-%20Anvendt%20dataanalyse%20og%20maskinl%C3%A6ring/Projects/Project1_FYS-STK4155/Runs/abc.ipynb#W0sZmlsZQ%3D%3D?line=5'>6</a>\u001b[0m feature_numbers, errors \u001b[39m=\u001b[39m tradeoff_experiment(num_points\u001b[39m=\u001b[39m\u001b[39m50\u001b[39m,num_features\u001b[39m=\u001b[39m\u001b[39m50\u001b[39m,nth\u001b[39m=\u001b[39m\u001b[39m100\u001b[39m)\n",
      "File \u001b[1;32mc:\\Users\\Trond\\OneDrive\\7. semester\\FYS-STK3155 - Anvendt dataanalyse og maskinlæring\\Projects\\Project1_FYS-STK4155\\Code\\bootstrap.py:5\u001b[0m\n\u001b[0;32m      2\u001b[0m \u001b[39mimport\u001b[39;00m \u001b[39mmatplotlib\u001b[39;00m\u001b[39m.\u001b[39;00m\u001b[39mpyplot\u001b[39;00m \u001b[39mas\u001b[39;00m \u001b[39mplt\u001b[39;00m\n\u001b[0;32m      4\u001b[0m \u001b[39mfrom\u001b[39;00m \u001b[39mCode\u001b[39;00m\u001b[39m.\u001b[39;00m\u001b[39mutilities\u001b[39;00m \u001b[39mimport\u001b[39;00m r2_sampling, random_dataset_split_preparation\n\u001b[1;32m----> 5\u001b[0m \u001b[39mfrom\u001b[39;00m \u001b[39mCode\u001b[39;00m\u001b[39m.\u001b[39;00m\u001b[39mregression\u001b[39;00m \u001b[39mimport\u001b[39;00m fit_OLS\n\u001b[0;32m      7\u001b[0m \u001b[39mdef\u001b[39;00m \u001b[39mresample\u001b[39m(X, Z):\n\u001b[0;32m      8\u001b[0m \n\u001b[0;32m      9\u001b[0m     \u001b[39m# Index range\u001b[39;00m\n\u001b[0;32m     10\u001b[0m     index_range \u001b[39m=\u001b[39m np\u001b[39m.\u001b[39marange(\u001b[39m0\u001b[39m, X\u001b[39m.\u001b[39mshape[\u001b[39m0\u001b[39m])\n",
      "File \u001b[1;32mc:\\Users\\Trond\\OneDrive\\7. semester\\FYS-STK3155 - Anvendt dataanalyse og maskinlæring\\Projects\\Project1_FYS-STK4155\\Code\\regression.py:2\u001b[0m\n\u001b[0;32m      1\u001b[0m \u001b[39mimport\u001b[39;00m \u001b[39mnumpy\u001b[39;00m \u001b[39mas\u001b[39;00m \u001b[39mnp\u001b[39;00m\n\u001b[1;32m----> 2\u001b[0m \u001b[39mfrom\u001b[39;00m \u001b[39msklearn\u001b[39;00m \u001b[39mimport\u001b[39;00m linear_model\n\u001b[0;32m      4\u001b[0m \u001b[39mfrom\u001b[39;00m \u001b[39mCode\u001b[39;00m\u001b[39m.\u001b[39;00m\u001b[39mplot\u001b[39;00m \u001b[39mimport\u001b[39;00m plot_model_prediction\n\u001b[0;32m      5\u001b[0m \u001b[39mfrom\u001b[39;00m \u001b[39mCode\u001b[39;00m\u001b[39m.\u001b[39;00m\u001b[39mutilities\u001b[39;00m \u001b[39mimport\u001b[39;00m MSELoss, random_dataset_split_preparation, r2_sampling\n",
      "\u001b[1;31mModuleNotFoundError\u001b[0m: No module named 'sklearn'"
     ]
    }
   ],
   "source": [
    "import sys, os\n",
    "\n",
    "sys.path.append(os.path.abspath(os.path.join('..')))\n",
    "from Code.bootstrap import tradeoff_experiment\n",
    "\n",
    "feature_numbers, errors = tradeoff_experiment(num_points=50,num_features=50,nth=100)\n"
   ]
  }
 ],
 "metadata": {
  "kernelspec": {
   "display_name": ".venv",
   "language": "python",
   "name": "python3"
  },
  "language_info": {
   "codemirror_mode": {
    "name": "ipython",
    "version": 3
   },
   "file_extension": ".py",
   "mimetype": "text/x-python",
   "name": "python",
   "nbconvert_exporter": "python",
   "pygments_lexer": "ipython3",
   "version": "3.10.11"
  },
  "orig_nbformat": 4
 },
 "nbformat": 4,
 "nbformat_minor": 2
}
