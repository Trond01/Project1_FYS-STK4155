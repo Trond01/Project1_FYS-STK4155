{
 "cells": [
  {
   "cell_type": "markdown",
   "metadata": {},
   "source": [
    "### Import interface funtions and create path"
   ]
  },
  {
   "cell_type": "code",
   "execution_count": null,
   "metadata": {},
   "outputs": [],
   "source": [
    "import sys, os\n",
    "\n",
    "sys.path.append(os.path.abspath(os.path.join('..')))\n",
    "from Code.bootstrap import tradeoff_experiment\n",
    "from Code.utilities import path_to_results, number_of_features, sample_terrain_data\n",
    "\n",
    "# Set the default font size for text elements (e.g., titles, labels)\n",
    "import matplotlib as mpl\n",
    "mpl.rcParams['font.size'] = 14  # Change 14 to your desired font size\n",
    "mpl.rcParams['legend.fontsize'] = 12 "
   ]
  },
  {
   "cell_type": "markdown",
   "metadata": {},
   "source": [
    "### Franke"
   ]
  },
  {
   "cell_type": "code",
   "execution_count": null,
   "metadata": {},
   "outputs": [],
   "source": [
    "# Franke\n",
    "deg = 8\n",
    "n_features_bootstrap = number_of_features(deg)+3 # Go just before it explodes...\n",
    "n_points_bootstrap   = 101\n",
    "\n",
    "s2_bootstrap = 0\n",
    "_ = tradeoff_experiment(num_points=n_points_bootstrap,num_features=n_features_bootstrap,nth=100, sigma2=s2_bootstrap, \n",
    "                        filename1=path_to_results(f\"bias_variance_franke___N{n_points_bootstrap}_d{deg}.png\"),\n",
    "                        filename2=path_to_results(f\"bootstrap_loss_franke___N{n_points_bootstrap}_d{deg}.png\"))"
   ]
  },
  {
   "cell_type": "markdown",
   "metadata": {},
   "source": [
    "# With noise"
   ]
  },
  {
   "cell_type": "code",
   "execution_count": null,
   "metadata": {},
   "outputs": [],
   "source": [
    "deg = 7\n",
    "n_features_bootstrap = number_of_features(deg)\n",
    "s2_bootstrap = 0.01\n",
    "\n",
    "_ = tradeoff_experiment(num_points=n_points_bootstrap,num_features=n_features_bootstrap,nth=100, sigma2=s2_bootstrap, \n",
    "                        filename1=path_to_results(f\"bias_variance_franke___N{n_points_bootstrap}_s2={s2_bootstrap}_d{deg}.png\"),\n",
    "                        filename2=path_to_results(f\"bootstrap_loss_franke___N{n_points_bootstrap}_s2={s2_bootstrap}_d{deg}.png\"))"
   ]
  },
  {
   "cell_type": "markdown",
   "metadata": {},
   "source": [
    "### Terrain data"
   ]
  },
  {
   "cell_type": "code",
   "execution_count": null,
   "metadata": {},
   "outputs": [],
   "source": [
    "# Terrain\n",
    "deg = 5\n",
    "n_features_bootstrap = number_of_features(deg)\n",
    "n_points_bootstrap   = 101\n",
    "\n",
    "data = sample_terrain_data(n_points_bootstrap)\n",
    "_ = tradeoff_experiment(num_points=n_points_bootstrap,num_features=n_features_bootstrap,nth=100, data=data, \n",
    "                        filename1=path_to_results(f\"bias_variance_terrain___N{n_points_bootstrap}_d{deg}.png\"),\n",
    "                        filename2=path_to_results(f\"bootstrap_loss_terrain___N{n_points_bootstrap}_d{deg}.png\"))\n"
   ]
  },
  {
   "cell_type": "code",
   "execution_count": null,
   "metadata": {},
   "outputs": [],
   "source": [
    "# Terrain with more points sampled\n",
    "deg = 8\n",
    "n_features_bootstrap = number_of_features(deg)\n",
    "n_points_bootstrap   = 500\n",
    "\n",
    "data = sample_terrain_data(n_points_bootstrap)\n",
    "_ = tradeoff_experiment(num_points=n_points_bootstrap,num_features=n_features_bootstrap,nth=100, data=data, \n",
    "                        filename1=path_to_results(f\"bias_variance_terrain___N{n_points_bootstrap}_d{deg}.png\"),\n",
    "                        filename2=path_to_results(f\"bootstrap_loss_terrain___N{n_points_bootstrap}_d{deg}.png\"),\n",
    "                        n_bootstraps=100)"
   ]
  }
 ],
 "metadata": {
  "kernelspec": {
   "display_name": ".venv",
   "language": "python",
   "name": "python3"
  },
  "language_info": {
   "codemirror_mode": {
    "name": "ipython",
    "version": 3
   },
   "file_extension": ".py",
   "mimetype": "text/x-python",
   "name": "python",
   "nbconvert_exporter": "python",
   "pygments_lexer": "ipython3",
   "version": "3.10.11"
  },
  "orig_nbformat": 4
 },
 "nbformat": 4,
 "nbformat_minor": 2
}
