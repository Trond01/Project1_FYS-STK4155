{
 "cells": [
  {
   "cell_type": "markdown",
   "metadata": {},
   "source": [
    "### Import interface funtions and create path"
   ]
  },
  {
   "cell_type": "code",
   "execution_count": null,
   "metadata": {},
   "outputs": [],
   "source": [
    "import sys, os\n",
    "\n",
    "sys.path.append(os.path.abspath(os.path.join('..')))\n",
    "from Code.bootstrap import tradeoff_experiment\n",
    "from Code.utilities import path_to_results, number_of_features, sample_terrain_data\n",
    "\n",
    "#feature_numbers, errors = tradeoff_experiment(num_points=50,num_features=50,nth=100)"
   ]
  },
  {
   "cell_type": "markdown",
   "metadata": {},
   "source": [
    "### Franke"
   ]
  },
  {
   "cell_type": "code",
   "execution_count": null,
   "metadata": {},
   "outputs": [],
   "source": [
    "# Franke\n",
    "deg = 8\n",
    "n_features_bootstrap = number_of_features(deg)+3 # Go just before it explodes...\n",
    "n_points_bootstrap   = 101\n",
    "\n",
    "s2_bootstrap = 0\n",
    "_ = tradeoff_experiment(num_points=n_points_bootstrap,num_features=n_features_bootstrap,nth=100, sigma2=s2_bootstrap, \n",
    "                        filename=path_to_results(f\"bias_variance_franke___N{n_points_bootstrap}_s2={s2_bootstrap}_n{n_features_bootstrap}.png\"))"
   ]
  },
  {
   "cell_type": "markdown",
   "metadata": {},
   "source": [
    "# With noise"
   ]
  },
  {
   "cell_type": "code",
   "execution_count": null,
   "metadata": {},
   "outputs": [],
   "source": [
    "deg = 7\n",
    "n_features_bootstrap = number_of_features(deg)\n",
    "s2_bootstrap = 0.01\n",
    "\n",
    "_ = tradeoff_experiment(num_points=n_points_bootstrap,num_features=n_features_bootstrap,nth=100, sigma2=s2_bootstrap, \n",
    "                        filename=path_to_results(f\"bias_variance_franke___N{n_points_bootstrap}_s2={s2_bootstrap}_d{deg}.png\"))"
   ]
  },
  {
   "cell_type": "markdown",
   "metadata": {},
   "source": [
    "### Terrain data"
   ]
  },
  {
   "cell_type": "code",
   "execution_count": null,
   "metadata": {},
   "outputs": [],
   "source": [
    "# Terrain\n",
    "deg = 5\n",
    "n_features_bootstrap = number_of_features(deg)\n",
    "n_points_bootstrap   = 101\n",
    "\n",
    "data = sample_terrain_data(n_points_bootstrap)\n",
    "_ = tradeoff_experiment(num_points=n_points_bootstrap,num_features=n_features_bootstrap,nth=100, data=data, \n",
    "                        filename=path_to_results(f\"bias_variance_terrain___N{n_points_bootstrap}_d{deg}.png\"))\n"
   ]
  },
  {
   "cell_type": "code",
   "execution_count": null,
   "metadata": {},
   "outputs": [],
   "source": [
    "# Terrain with more points sampled\n",
    "deg = 10\n",
    "n_features_bootstrap = number_of_features(deg)\n",
    "n_points_bootstrap   = 500\n",
    "\n",
    "data = sample_terrain_data(n_points_bootstrap)\n",
    "_ = tradeoff_experiment(num_points=n_points_bootstrap,num_features=n_features_bootstrap,nth=100, data=data, \n",
    "                        filename=path_to_results(f\"bias_variance_terrain___N{n_points_bootstrap}_d{deg}.png\"))\n"
   ]
  }
 ],
 "metadata": {
  "kernelspec": {
   "display_name": ".venv",
   "language": "python",
   "name": "python3"
  },
  "language_info": {
   "codemirror_mode": {
    "name": "ipython",
    "version": 3
   },
   "file_extension": ".py",
   "mimetype": "text/x-python",
   "name": "python",
   "nbconvert_exporter": "python",
   "pygments_lexer": "ipython3",
   "version": "3.9.0"
  },
  "orig_nbformat": 4
 },
 "nbformat": 4,
 "nbformat_minor": 2
}
