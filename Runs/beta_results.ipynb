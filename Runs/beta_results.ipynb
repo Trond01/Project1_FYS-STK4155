{
 "cells": [
  {
   "cell_type": "markdown",
   "metadata": {},
   "source": [
    "### Import interface funtions and create path"
   ]
  },
  {
   "cell_type": "code",
   "execution_count": null,
   "metadata": {},
   "outputs": [],
   "source": [
    "import sys, os\n",
    "sys.path.append(os.path.abspath(os.path.join('..')))\n",
    "\n",
    "from Code.utilities import path_to_results, sample_terrain_data\n",
    "from Code.regression import train_OLS, train_RIDGE, train_LASSO\n",
    "from Code.experiments import analyze_lambda_range, plot_beta_experiment\n"
   ]
  },
  {
   "cell_type": "markdown",
   "metadata": {},
   "source": [
    "### Beta experiment for Franke"
   ]
  },
  {
   "cell_type": "code",
   "execution_count": null,
   "metadata": {},
   "outputs": [],
   "source": [
    "# Plots parameter values for the different methods with optimal lambda taken from graphs above.\n",
    "N = 51\n",
    "num_features = 50\n",
    "ridge_lam = 0.01\n",
    "lasso_lam = 0.001\n",
    "\n",
    "_ = plot_beta_experiment(train_OLS, beta_comp_indeces=[0, 1, 2, 3, 10, 15, 25, 30, 35], num_features=num_features, num_points=N, lam=0.00, seed=42, filename=path_to_results(f\"parameter_plot_OLS___N{N}_features{num_features}.png\"))\n",
    "_ = plot_beta_experiment(train_RIDGE, beta_comp_indeces=[0, 1, 2, 3, 10, 15, 25, 30, 35], num_features=num_features, num_points=N, lam=ridge_lam, seed=42, filename=path_to_results(f\"parameter_plot_RIDGE___N{N}_features{num_features}_lambda{ridge_lam}.png\"))\n",
    "_ = plot_beta_experiment(train_LASSO, beta_comp_indeces=[0, 1, 2, 3, 10, 15, 25, 30, 35], num_features=num_features, num_points=N, lam=lasso_lam, seed=42, filename=path_to_results(f\"parameter_plot_LASSO___N{N}_features{num_features}_lambda{lasso_lam}.png\"))"
   ]
  },
  {
   "cell_type": "markdown",
   "metadata": {},
   "source": [
    "### Noisy Franke"
   ]
  },
  {
   "cell_type": "code",
   "execution_count": null,
   "metadata": {},
   "outputs": [],
   "source": [
    "sigma2 = 0.01\n",
    "\n",
    "_ = plot_beta_experiment(train_OLS, beta_comp_indeces=[0, 1, 2, 3, 10, 15, 25, 30, 35], num_features=num_features, num_points=N, lam=0.00, seed=42, filename=path_to_results(f\"parameter_plot_OLS_noise___N{N}_features{num_features}_ss{sigma2}.png\"), sigma2=sigma2)\n",
    "_ = plot_beta_experiment(train_RIDGE, beta_comp_indeces=[0, 1, 2, 3, 10, 15, 25, 30, 35], num_features=num_features, num_points=N, lam=ridge_lam, seed=42, filename=path_to_results(f\"parameter_plot_RIDGE_noise___N{N}_features{num_features}_lambda{ridge_lam}_ss{sigma2}.png\"), sigma2=sigma2)\n",
    "_ = plot_beta_experiment(train_LASSO, beta_comp_indeces=[0, 1, 2, 3, 10, 15, 25, 30, 35], num_features=num_features, num_points=N, lam=lasso_lam, seed=42, filename=path_to_results(f\"parameter_plot_LASSO_noise___N{N}_features{num_features}_lambda{lasso_lam}_ss{sigma2}.png\"), sigma2=sigma2)"
   ]
  },
  {
   "cell_type": "markdown",
   "metadata": {},
   "source": [
    "### Terrain data"
   ]
  },
  {
   "cell_type": "code",
   "execution_count": null,
   "metadata": {},
   "outputs": [],
   "source": [
    "terrain_data = sample_terrain_data(N)\n",
    "\n",
    "_ = plot_beta_experiment(train_OLS,   beta_comp_indeces=[0, 1, 2, 3, 10, 15, 25, 30, 35], num_features=num_features, lam=0.00, seed=42, data=terrain_data, filename=path_to_results(f\"parameter_plot_OLS___N{N}_terrain_features{num_features}.png\"))\n",
    "_ = plot_beta_experiment(train_RIDGE, beta_comp_indeces=[0, 1, 2, 3, 10, 15, 25, 30, 35], num_features=num_features, lam=ridge_lam, seed=42, data=terrain_data, filename=path_to_results(f\"parameter_plot_RIDGE_terrain____N{N}_features{num_features}_lambda{ridge_lam}.png\"))\n",
    "_ = plot_beta_experiment(train_LASSO, beta_comp_indeces=[0, 1, 2, 3, 10, 15, 25, 30, 35], num_features=num_features, lam=lasso_lam, seed=42, data=terrain_data, filename=path_to_results(f\"parameter_plot_LASSO_terrain___N{N}_features{num_features}_lambda{lasso_lam}.png\"))"
   ]
  }
 ],
 "metadata": {
  "kernelspec": {
   "display_name": ".venv",
   "language": "python",
   "name": "python3"
  },
  "language_info": {
   "codemirror_mode": {
    "name": "ipython",
    "version": 3
   },
   "file_extension": ".py",
   "mimetype": "text/x-python",
   "name": "python",
   "nbconvert_exporter": "python",
   "pygments_lexer": "ipython3",
   "version": "3.10.11"
  },
  "orig_nbformat": 4
 },
 "nbformat": 4,
 "nbformat_minor": 2
}
