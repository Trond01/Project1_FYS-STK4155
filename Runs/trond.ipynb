{
 "cells": [
  {
   "cell_type": "markdown",
   "metadata": {},
   "source": [
    "# Below are results"
   ]
  },
  {
   "cell_type": "code",
   "execution_count": null,
   "metadata": {},
   "outputs": [],
   "source": [
    "import sys, os\n",
    "sys.path.append(os.path.abspath(os.path.join('..')))\n",
    "\n",
    "from Code.bootstrap import *\n",
    "from Code.cross_validation import *\n",
    "from Code.experiments import *\n",
    "from Code.plot import *\n",
    "from Code.regression import *\n",
    "from Code.utilities import *"
   ]
  },
  {
   "cell_type": "markdown",
   "metadata": {},
   "source": [
    "## Results from MSE and R2 experiment"
   ]
  },
  {
   "cell_type": "code",
   "execution_count": null,
   "metadata": {},
   "outputs": [],
   "source": [
    "n_points = 101\n",
    "max_deg = 5\n",
    "n_features = number_of_features(max_deg)\n",
    "lam_RIDGE = 0.00001 # TODO INSERT OPTIMAL\n",
    "lam_LASSO = 0.00001   # TODO INSERT OPTIMAL\n",
    "sigma2 = 0.01    # TODO INSERT NICE NOISE\n",
    "\n",
    "# Franke without noise\n",
    "_ = plot_MSE_R2_experiment(train_method=train_OLS,  filename=path_to_results(f\"franke_ols_MSE_R2___N{n_points}_d{max_deg}.png\"),num_points=n_points, num_features =n_features)\n",
    "_ = plot_MSE_R2_experiment(train_method=train_RIDGE,filename=path_to_results(f\"franke_ols_MSE_R2___N{n_points}_d{max_deg}_lam{lam_RIDGE}.png\"),num_points=n_points, num_features =n_features, lam = lam_RIDGE)\n",
    "_ = plot_MSE_R2_experiment(train_method=train_LASSO,filename=path_to_results(f\"franke_ols_MSE_R2___N{n_points}_d{max_deg}_lam{lam_LASSO}.png\"),num_points=n_points, num_features =n_features, lam = lam_LASSO)\n",
    "\n",
    "# Franke with noise\n",
    "_ = plot_MSE_R2_experiment(train_method=train_OLS,  filename=path_to_results(f\"franke_ols_MSE_R2___N{n_points}_s2={sigma2}_d{max_deg}.png\"),num_points=n_points, num_features =n_features, sigma2=sigma2)\n",
    "_ = plot_MSE_R2_experiment(train_method=train_RIDGE,filename=path_to_results(f\"franke_ols_MSE_R2___N{n_points}_s2={sigma2}_d{max_deg}_lam{lam_RIDGE}.png\"),num_points=n_points, num_features =n_features, lam = lam_RIDGE, sigma2=sigma2)\n",
    "_ = plot_MSE_R2_experiment(train_method=train_LASSO,filename=path_to_results(f\"franke_ols_MSE_R2___N{n_points}_s2={sigma2}_d{max_deg}_lam{lam_LASSO}.png\"),num_points=n_points, num_features =n_features, lam = lam_LASSO, sigma2=sigma2)\n",
    "\n",
    "# Terrain\n",
    "data = sample_terrain_data(n_points)\n",
    "_ = plot_MSE_R2_experiment(train_method=train_OLS,   data=data, filename=path_to_results(f\"franke_ols_MSE_R2___N{n_points}_s2{sigma2}_d{max_deg}.png\"),num_points=n_points, num_features =n_features)\n",
    "_ = plot_MSE_R2_experiment(train_method=train_RIDGE, data=data, filename=path_to_results(f\"franke_ols_MSE_R2___N{n_points}_s2{sigma2}_d{max_deg}_lam{lam_RIDGE}.png\"),num_points=n_points, num_features =n_features, lam = lam_RIDGE)\n",
    "_ = plot_MSE_R2_experiment(train_method=train_LASSO, data=data, filename=path_to_results(f\"franke_ols_MSE_R2___N{n_points}_s2{sigma2}_d{max_deg}_lam{lam_LASSO}.png\"),num_points=n_points, num_features =n_features, lam = lam_LASSO)\n"
   ]
  },
  {
   "cell_type": "markdown",
   "metadata": {},
   "source": [
    "## Reproducing figure 2.11"
   ]
  },
  {
   "cell_type": "code",
   "execution_count": null,
   "metadata": {},
   "outputs": [],
   "source": [
    "max_deg = 5\n",
    "n_features = number_of_features(max_deg)\n",
    "\n",
    "_ = plot_MSE_R2_experiment(train_method=train_OLS,  filename=path_to_results(f\"franke_ols_MSE_R2___N{n_points}_s2={sigma2}_d{max_deg}.png\"),num_points=n_points, num_features =n_features, sigma2=sigma2)\n"
   ]
  },
  {
   "cell_type": "markdown",
   "metadata": {},
   "source": [
    "## Bootstrap"
   ]
  },
  {
   "cell_type": "code",
   "execution_count": null,
   "metadata": {},
   "outputs": [],
   "source": [
    "# Franke\n",
    "deg = 7\n",
    "n_features_bootstrap = number_of_features(deg)\n",
    "n_points_bootstrap   = 101\n",
    "\n",
    "s2_bootstrap = 0\n",
    "_ = tradeoff_experiment(num_points=n_points_bootstrap,num_features=n_features_bootstrap,nth=100, filename=f\"bias_variance_franke___N{n_points_bootstrap}_s2={s2_bootstrap}_d{deg}.png\", sigma2=s2_bootstrap)\n",
    "s2_bootstrap = 0.01\n",
    "_ = tradeoff_experiment(num_points=n_points_bootstrap,num_features=n_features_bootstrap,nth=100, filename=f\"bias_variance_franke___N{n_points_bootstrap}_s2={s2_bootstrap}_d{deg}.png\", sigma2=s2_bootstrap)\n",
    "\n",
    "\n",
    "# Terrain\n",
    "deg = 5\n",
    "n_features_bootstrap = number_of_features(deg)\n",
    "n_points_bootstrap   = 101\n",
    "\n",
    "data = sample_terrain_data(n_points)\n",
    "_ = tradeoff_experiment(num_points=n_points_bootstrap,num_features=n_features_bootstrap,nth=100, filename=f\"bias_variance_terrain___N{n_points_bootstrap}_d{deg}.png\", data=data)\n"
   ]
  },
  {
   "cell_type": "markdown",
   "metadata": {},
   "source": [
    "## Cross-validation"
   ]
  },
  {
   "cell_type": "code",
   "execution_count": null,
   "metadata": {},
   "outputs": [],
   "source": [
    "deg = 5\n",
    "n_features_crossval = number_of_features(deg)\n",
    "n_points_crossval   = 101\n",
    "\n",
    "start = 2 # Start with polynomial 1 + x + y\n",
    "\n",
    "for k in [5, 6, 7, 8, 9, 10]:\n",
    "    _ = cross_validation_experiment(k, n_points=n_points_crossval, num_features=n_features_crossval, start=start, \n",
    "                                    filename = f\"crossval_franke___N{n_points_crossval}_d{deg}_k{k}.png\")"
   ]
  },
  {
   "cell_type": "code",
   "execution_count": null,
   "metadata": {},
   "outputs": [],
   "source": [
    "deg = 5\n",
    "n_features_crossval = number_of_features(deg)\n",
    "n_points_crossval   = 101\n",
    "\n",
    "start = 2 # Start with polynomial 1 + x + y\n",
    "\n",
    "data = sample_terrain_data(n_points_crossval)\n",
    "\n",
    "for k in [5, 6, 7, 8, 9, 10]:\n",
    "    _ = cross_validation_experiment(k, data=data, num_features=n_features_crossval, start=start, \n",
    "                                    filename = f\"crossval_terrain___N{n_points_crossval}_d{deg}_k{k}.png\")"
   ]
  }
 ],
 "metadata": {
  "kernelspec": {
   "display_name": ".venv",
   "language": "python",
   "name": "python3"
  },
  "language_info": {
   "codemirror_mode": {
    "name": "ipython",
    "version": 3
   },
   "file_extension": ".py",
   "mimetype": "text/x-python",
   "name": "python",
   "nbconvert_exporter": "python",
   "pygments_lexer": "ipython3",
   "version": "3.10.11"
  },
  "orig_nbformat": 4
 },
 "nbformat": 4,
 "nbformat_minor": 2
}
