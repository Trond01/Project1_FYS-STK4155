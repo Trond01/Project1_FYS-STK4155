{
 "cells": [
  {
   "attachments": {},
   "cell_type": "markdown",
   "metadata": {},
   "source": [
    "# Below are results"
   ]
  },
  {
   "cell_type": "code",
   "execution_count": null,
   "metadata": {},
   "outputs": [],
   "source": [
    "import sys, os\n",
    "sys.path.append(os.path.abspath(os.path.join('..')))\n",
    "\n",
    "from Code.bootstrap import *\n",
    "from Code.cross_validation import *\n",
    "from Code.experiments import *\n",
    "from Code.plot import *\n",
    "from Code.regression import *\n",
    "from Code.utilities import *"
   ]
  },
  {
   "cell_type": "code",
   "execution_count": null,
   "metadata": {},
   "outputs": [],
   "source": [
    "n_points = 51"
   ]
  },
  {
   "cell_type": "code",
   "execution_count": null,
   "metadata": {},
   "outputs": [],
   "source": [
    "max_deg = 6\n",
    "n_features = number_of_features(max_deg)\n",
    "lam_RIDGE = 0.001 # TODO INSERT OPTIMAL\n",
    "lam_LASSO = 0.001   # TODO INSERT OPTIMAL\n",
    "sigma2 = 0.0001    # TODO INSERT NICE NOISE\n",
    "\n",
    "# Franke without noise\n",
    "print(\"OLS\")\n",
    "_ = plot_MSE_R2_experiment(train_method=train_OLS,  filename=path_to_results(f\"franke_ols_MSE_R2___N{n_points}_d{max_deg}.png\"),num_points=n_points, num_features =n_features)\n",
    "print(\"Ridge\")\n",
    "_ = plot_MSE_R2_experiment(train_method=train_RIDGE,filename=path_to_results(f\"franke_ols_MSE_R2___N{n_points}_d{max_deg}_lam{lam_RIDGE}.png\"),num_points=n_points, num_features =n_features, lam = lam_RIDGE)\n",
    "print(\"Lasso\")\n",
    "_ = plot_MSE_R2_experiment(train_method=train_LASSO,filename=path_to_results(f\"franke_ols_MSE_R2___N{n_points}_d{max_deg}_lam{lam_LASSO}.png\"),num_points=n_points, num_features =n_features, lam = lam_LASSO)\n",
    "\n",
    "# Franke with noise\n",
    "print(\"OLS\")\n",
    "_ = plot_MSE_R2_experiment(train_method=train_OLS,  filename=path_to_results(f\"franke_ols_MSE_R2___N{n_points}_ss{sigma2}_d{max_deg}.png\"),num_points=n_points, num_features =n_features)\n",
    "print(\"Ridge\")\n",
    "_ = plot_MSE_R2_experiment(train_method=train_RIDGE,filename=path_to_results(f\"franke_ols_MSE_R2___N{n_points}_s2{sigma2}_d{max_deg}_lam{lam_RIDGE}.png\"),num_points=n_points, num_features =n_features, lam = lam_RIDGE)\n",
    "print(\"Lasso\")\n",
    "_ = plot_MSE_R2_experiment(train_method=train_LASSO,filename=path_to_results(f\"franke_ols_MSE_R2___N{n_points}_s2{sigma2}_d{max_deg}_lam{lam_LASSO}.png\"),num_points=n_points, num_features =n_features, lam = lam_LASSO)\n",
    "\n",
    "# Terrain\n"
   ]
  },
  {
   "cell_type": "code",
   "execution_count": null,
   "metadata": {},
   "outputs": [],
   "source": []
  },
  {
   "cell_type": "code",
   "execution_count": null,
   "metadata": {},
   "outputs": [],
   "source": []
  },
  {
   "cell_type": "code",
   "execution_count": null,
   "metadata": {},
   "outputs": [],
   "source": []
  },
  {
   "cell_type": "code",
   "execution_count": null,
   "metadata": {},
   "outputs": [],
   "source": []
  },
  {
   "cell_type": "code",
   "execution_count": null,
   "metadata": {},
   "outputs": [],
   "source": []
  },
  {
   "cell_type": "code",
   "execution_count": null,
   "metadata": {},
   "outputs": [],
   "source": []
  },
  {
   "cell_type": "code",
   "execution_count": null,
   "metadata": {},
   "outputs": [],
   "source": []
  }
 ],
 "metadata": {
  "kernelspec": {
   "display_name": ".venv",
   "language": "python",
   "name": "python3"
  },
  "language_info": {
   "codemirror_mode": {
    "name": "ipython",
    "version": 3
   },
   "file_extension": ".py",
   "mimetype": "text/x-python",
   "name": "python",
   "nbconvert_exporter": "python",
   "pygments_lexer": "ipython3",
   "version": "3.9.0"
  },
  "orig_nbformat": 4
 },
 "nbformat": 4,
 "nbformat_minor": 2
}
