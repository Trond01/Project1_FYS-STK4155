{
 "cells": [
  {
   "attachments": {},
   "cell_type": "markdown",
   "metadata": {},
   "source": [
    "# Below are results"
   ]
  },
  {
   "cell_type": "code",
   "execution_count": null,
   "metadata": {},
   "outputs": [],
   "source": [
    "import sys, os\n",
    "sys.path.append(os.path.abspath(os.path.join('..')))\n",
    "\n",
    "from Code.bootstrap import *\n",
    "from Code.cross_validation import *\n",
    "from Code.experiments import *\n",
    "from Code.plot import *\n",
    "from Code.regression import *\n",
    "from Code.utilities import *"
   ]
  },
  {
   "cell_type": "markdown",
   "metadata": {},
   "source": [
    "## Results from MSE and R2 experiment"
   ]
  },
  {
   "cell_type": "code",
   "execution_count": null,
   "metadata": {},
   "outputs": [],
   "source": [
    "n_points = 101\n",
    "max_deg = 5\n",
    "n_features = number_of_features(max_deg)\n",
    "lam_RIDGE = 0.001 # TODO INSERT OPTIMAL\n",
    "lam_LASSO = 0.001   # TODO INSERT OPTIMAL\n",
    "sigma2 = 0.01    # TODO INSERT NICE NOISE\n",
    "\n",
    "# Franke without noise\n",
    "print(\"OLS\")\n",
    "_ = plot_MSE_R2_experiment(train_method=train_OLS,  filename=path_to_results(f\"MSE_R2_franke_OLS___N{n_points}_d{max_deg}.png\"),num_points=n_points, num_features =n_features)\n",
    "print(\"Ridge\")\n",
    "_ = plot_MSE_R2_experiment(train_method=train_RIDGE,filename=path_to_results(f\"MSE_R2_franke_RIDGE___N{n_points}_d{max_deg}_lam{lam_RIDGE}.png\"),num_points=n_points, num_features =n_features, lam = lam_RIDGE)\n",
    "print(\"Lasso\")\n",
    "_ = plot_MSE_R2_experiment(train_method=train_LASSO,filename=path_to_results(f\"MSE_R2_franke_LASSO___N{n_points}_d{max_deg}_lam{lam_LASSO}.png\"),num_points=n_points, num_features =n_features, lam = lam_LASSO)\n",
    "\n",
    "# Franke with noise\n",
    "print(\"OLS noise\")\n",
    "_ = plot_MSE_R2_experiment(train_method=train_OLS,  filename=path_to_results(f\"MSE_R2_franke_OLS___N{n_points}_s2={sigma2}_d{max_deg}.png\"),num_points=n_points, num_features =n_features, sigma2=sigma2)\n",
    "print(\"Ridge noise\")\n",
    "_ = plot_MSE_R2_experiment(train_method=train_RIDGE,filename=path_to_results(f\"MSE_R2_franke_RIDGE___N{n_points}_s2={sigma2}_d{max_deg}_lam{lam_RIDGE}.png\"),num_points=n_points, num_features =n_features, lam = lam_RIDGE, sigma2=sigma2)\n",
    "print(\"Lasso noise\")\n",
    "_ = plot_MSE_R2_experiment(train_method=train_LASSO,filename=path_to_results(f\"MSE_R2_franke_LASSO___N{n_points}_s2={sigma2}_d{max_deg}_lam{lam_LASSO}.png\"),num_points=n_points, num_features =n_features, lam = lam_LASSO, sigma2=sigma2)\n",
    "\n",
    "# Terrain\n",
    "data = sample_terrain_data(n_points)\n",
    "print(\"OLS terrain\")\n",
    "_ = plot_MSE_R2_experiment(train_method=train_OLS,   data=data, filename=path_to_results(f\"MSE_R2_terrain_OLS___N{n_points}_d{max_deg}.png\"),num_points=n_points, num_features =n_features)\n",
    "print(\"Ridge terrain\")\n",
    "_ = plot_MSE_R2_experiment(train_method=train_RIDGE, data=data, filename=path_to_results(f\"MSE_R2_terrain_RIDGE___N{n_points}_d{max_deg}_lam{lam_RIDGE}.png\"),num_points=n_points, num_features =n_features, lam = lam_RIDGE)\n",
    "print(\"Lasso terrain\")\n",
    "_ = plot_MSE_R2_experiment(train_method=train_LASSO, data=data, filename=path_to_results(f\"MSE_R2_terrain_LASSO___N{n_points}_d{max_deg}_lam{lam_LASSO}.png\"),num_points=n_points, num_features =n_features, lam = lam_LASSO)\n"
   ]
  },
  {
   "cell_type": "markdown",
   "metadata": {},
   "source": [
    "## Bootstrap"
   ]
  },
  {
   "cell_type": "code",
   "execution_count": null,
   "metadata": {},
   "outputs": [],
   "source": [
    "# Franke\n",
    "deg = 7\n",
    "n_features_bootstrap = number_of_features(deg)\n",
    "n_points_bootstrap   = 101\n",
    "\n",
    "s2_bootstrap = 0\n",
    "_ = tradeoff_experiment(num_points=n_points_bootstrap,num_features=n_features_bootstrap,nth=100, sigma2=s2_bootstrap, \n",
    "                        filename=path_to_results(f\"bias_variance_franke___N{n_points_bootstrap}_s2={s2_bootstrap}_d{deg}.png\"))\n",
    "s2_bootstrap = 0.01\n",
    "_ = tradeoff_experiment(num_points=n_points_bootstrap,num_features=n_features_bootstrap,nth=100, sigma2=s2_bootstrap, \n",
    "                        filename=path_to_results(f\"bias_variance_franke___N{n_points_bootstrap}_s2={s2_bootstrap}_d{deg}.png\"))\n",
    "\n",
    "\n",
    "# Terrain\n",
    "deg = 5\n",
    "n_features_bootstrap = number_of_features(deg)\n",
    "n_points_bootstrap   = 101\n",
    "\n",
    "data = sample_terrain_data(n_points)\n",
    "_ = tradeoff_experiment(num_points=n_points_bootstrap,num_features=n_features_bootstrap,nth=100, data=data, \n",
    "                        filename=path_to_results(f\"bias_variance_terrain___N{n_points_bootstrap}_d{deg}.png\"))\n"
   ]
  },
  {
   "cell_type": "markdown",
   "metadata": {},
   "source": [
    "## Cross-validation"
   ]
  },
  {
   "cell_type": "code",
   "execution_count": null,
   "metadata": {},
   "outputs": [],
   "source": [
    "methods_list = [\n",
    "    {\"fit_func\": fit_OLS, \"lam\": 0, \"name\": \"OLS\", \"styles\": [\"r\", \"r--\"]},\n",
    "    {\"fit_func\": fit_RIDGE, \"lam\": lam_RIDGE, \"name\": \"RIDGE\", \"styles\": [\"b\", \"b--\"]},\n",
    "    {\"fit_func\": fit_LASSO, \"lam\": lam_RIDGE, \"name\": \"LASSO\", \"styles\": [\"g\", \"g--\"]},\n",
    "]"
   ]
  },
  {
   "cell_type": "code",
   "execution_count": null,
   "metadata": {},
   "outputs": [],
   "source": [
    "deg = 5\n",
    "n_features_crossval = number_of_features(deg)\n",
    "n_points_crossval   = 101\n",
    "\n",
    "start = 2 # Start with polynomial 1 + x + y\n",
    "\n",
    "for k in [5, 6, 7, 8, 9, 10]:\n",
    "    _ = cross_validation_experiment(k, n_points=n_points_crossval, num_features=n_features_crossval, start=start, \n",
    "                                    filename = path_to_results(f\"crossval_franke___N{n_points_crossval}_d{deg}_k{k}.png\"))"
   ]
  },
  {
   "cell_type": "code",
   "execution_count": null,
   "metadata": {},
   "outputs": [],
   "source": [
    "deg = 5\n",
    "n_features_crossval = number_of_features(deg)\n",
    "n_points_crossval   = 101\n",
    "\n",
    "start = 2 # Start with polynomial 1 + x + y\n",
    "\n",
    "data = sample_terrain_data(n_points_crossval)\n",
    "\n",
    "for k in [5, 6, 7, 8, 9, 10]:\n",
    "    _ = cross_validation_experiment(k, data=data, num_features=n_features_crossval, start=start, \n",
    "                                    filename = path_to_results(f\"crossval_terrain___N{n_points_crossval}_d{deg}_k{k}.png\"))"
   ]
  }
 ],
 "metadata": {
  "kernelspec": {
   "display_name": ".venv",
   "language": "python",
   "name": "python3"
  },
  "language_info": {
   "codemirror_mode": {
    "name": "ipython",
    "version": 3
   },
   "file_extension": ".py",
   "mimetype": "text/x-python",
   "name": "python",
   "nbconvert_exporter": "python",
   "pygments_lexer": "ipython3",
   "version": "3.9.0"
  },
  "orig_nbformat": 4
 },
 "nbformat": 4,
 "nbformat_minor": 2
}
