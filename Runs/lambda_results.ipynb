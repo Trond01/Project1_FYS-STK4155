{
 "cells": [
  {
   "cell_type": "markdown",
   "metadata": {},
   "source": [
    "### Import interface funtions and create path"
   ]
  },
  {
   "cell_type": "code",
   "execution_count": null,
   "metadata": {},
   "outputs": [],
   "source": [
    "import sys, os\n",
    "sys.path.append(os.path.abspath(os.path.join('..')))\n",
    "\n",
    "from Code.utilities import path_to_results, sample_terrain_data\n",
    "from Code.regression import train_RIDGE, train_LASSO\n",
    "from Code.experiments import analyze_lambda_range\n",
    "\n",
    "# Set the default font size for text elements (e.g., titles, labels)\n",
    "import matplotlib as mpl\n",
    "mpl.rcParams['font.size'] = 14  # Change 14 to your desired font size\n",
    "mpl.rcParams['legend.fontsize'] = 12"
   ]
  },
  {
   "attachments": {},
   "cell_type": "markdown",
   "metadata": {},
   "source": [
    "### Lambda dependance of Ridge and Lasso"
   ]
  },
  {
   "cell_type": "code",
   "execution_count": null,
   "metadata": {},
   "outputs": [],
   "source": [
    "N = 51\n",
    "num_features = 50\n",
    "num_lam = 101\n",
    "\n",
    "_ = analyze_lambda_range(train_method=train_RIDGE, num_points=N, high_deg=num_features, lam_low=-8.0, lam_high=7.0, seed=42, nth=11, num_lam=num_lam, filename=path_to_results(f\"lambda_range_RIDGE___N{N}_features{num_features}.png\"))\n",
    "_ = analyze_lambda_range(train_method=train_LASSO, num_points=N, high_deg=num_features, lam_low=-8.0, lam_high=7.0, seed=42, nth=11, num_lam=num_lam, filename=path_to_results(f\"lambda_range_LASSO___N{N}_features{num_features}.png\"))\n",
    "\n",
    "sigma2 = 0.01\n",
    "_ = analyze_lambda_range(train_method=train_RIDGE, num_points=N, high_deg=num_features, lam_low=-8.0, lam_high=7.0, seed=42, nth=11, num_lam=101, filename=path_to_results(f\"lambda_range_RIDGE_noise___N{N}_features{num_features}_ss{sigma2}.png\"), sigma2=sigma2)\n",
    "_ = analyze_lambda_range(train_method=train_LASSO, num_points=N, high_deg=num_features, lam_low=-8.0, lam_high=7.0, seed=42, nth=11, num_lam=101, filename=path_to_results(f\"lambda_range_LASSO_noise___N{N}_features{num_features}_ss{sigma2}.png\"), sigma2=sigma2)"
   ]
  },
  {
   "cell_type": "code",
   "execution_count": null,
   "metadata": {},
   "outputs": [],
   "source": [
    "# We do the experiment with the usual 101 points as well\n",
    "N = 101\n",
    "\n",
    "_ = analyze_lambda_range(train_method=train_RIDGE, num_points=N, high_deg=num_features, lam_low=-8.0, lam_high=7.0, seed=42, nth=11, num_lam=num_lam, filename=path_to_results(f\"lambda_range_RIDGE___N{N}_maxfeatures{num_features}.png\"))\n",
    "_ = analyze_lambda_range(train_method=train_LASSO, num_points=N, high_deg=num_features, lam_low=-8.0, lam_high=7.0, seed=42, nth=11, num_lam=num_lam, filename=path_to_results(f\"lambda_range_LASSO___N{N}_maxfeatures{num_features}.png\"))"
   ]
  },
  {
   "attachments": {},
   "cell_type": "markdown",
   "metadata": {},
   "source": [
    "### Lambda Range with Noise"
   ]
  },
  {
   "cell_type": "code",
   "execution_count": null,
   "metadata": {},
   "outputs": [],
   "source": [
    "N = 101\n",
    "sigma2 = 0.01\n",
    "\n",
    "_ = analyze_lambda_range(train_method=train_RIDGE, num_points=N, high_deg=num_features, lam_low=-8.0, lam_high=7.0, seed=42, nth=11, num_lam=101, filename=path_to_results(f\"lambda_range_RIDGE_noise___N{N}_features{num_features}_ss{sigma2}.png\"), sigma2=sigma2)\n",
    "_ = analyze_lambda_range(train_method=train_LASSO, num_points=N, high_deg=num_features, lam_low=-8.0, lam_high=7.0, seed=42, nth=11, num_lam=101, filename=path_to_results(f\"lambda_range_LASSO_noise___N{N}_features{num_features}_ss{sigma2}.png\"), sigma2=sigma2)"
   ]
  },
  {
   "attachments": {},
   "cell_type": "markdown",
   "metadata": {},
   "source": [
    "### Lambda Range with Terrain data"
   ]
  },
  {
   "cell_type": "code",
   "execution_count": null,
   "metadata": {},
   "outputs": [],
   "source": [
    "N = 101\n",
    "terrain_data = sample_terrain_data(N)\n",
    "\n",
    "_ = analyze_lambda_range(train_method=train_RIDGE, high_deg=num_features, lam_low=-8.0, lam_high=7.0, seed=42, nth=11, num_lam=101, data=terrain_data, filename=path_to_results(f\"lambda_range_RIDGE_terrain___N{N}_features{num_features}.png\"))\n",
    "_ = analyze_lambda_range(train_method=train_LASSO, high_deg=num_features, lam_low=-8.0, lam_high=7.0, seed=42, nth=11, num_lam=101, data=terrain_data, filename=path_to_results(f\"lambda_range_LASSO_terrain___N{N}_features{num_features}.png\"))"
   ]
  }
 ],
 "metadata": {
  "kernelspec": {
   "display_name": ".venv",
   "language": "python",
   "name": "python3"
  },
  "language_info": {
   "codemirror_mode": {
    "name": "ipython",
    "version": 3
   },
   "file_extension": ".py",
   "mimetype": "text/x-python",
   "name": "python",
   "nbconvert_exporter": "python",
   "pygments_lexer": "ipython3",
   "version": "3.10.11"
  },
  "orig_nbformat": 4
 },
 "nbformat": 4,
 "nbformat_minor": 2
}
