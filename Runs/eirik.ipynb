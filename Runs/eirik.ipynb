{
 "cells": [
  {
   "cell_type": "code",
   "execution_count": null,
   "metadata": {},
   "outputs": [],
   "source": [
    "import sys, os\n",
    "sys.path.append(os.path.abspath(os.path.join('..')))\n",
    "\n",
    "from Code.utilities import path_to_results, sample_terrain_data\n",
    "from Code.regression import train_OLS, train_RIDGE, train_LASSO\n",
    "from Code.experiments import analyze_lambda_range, plot_beta_experiment"
   ]
  },
  {
   "cell_type": "code",
   "execution_count": null,
   "metadata": {},
   "outputs": [],
   "source": [
    "N = 51\n",
    "N_2 = 101\n",
    "num_features = 50\n",
    "num_lam = 101\n",
    "\n",
    "\n",
    "ridge_lam = 0.01\n",
    "lasso_lam = 0.001"
   ]
  },
  {
   "attachments": {},
   "cell_type": "markdown",
   "metadata": {},
   "source": [
    "### Lambda dependance of Ridge and Lasso"
   ]
  },
  {
   "cell_type": "code",
   "execution_count": null,
   "metadata": {},
   "outputs": [],
   "source": [
    "_ = analyze_lambda_range(train_method=train_RIDGE, num_points=N, high_deg=num_features, lam_low=-8.0, lam_high=7.0, seed=42, nth=11, num_lam=101, filename=path_to_results(f\"lambda_range_RIDGE___N{N}_features{num_features}.png\"))\n",
    "_ = analyze_lambda_range(train_method=train_LASSO, num_points=N, high_deg=num_features, lam_low=-8.0, lam_high=7.0, seed=42, nth=11, num_lam=101, filename=path_to_results(f\"lambda_range_LASSO___N{N}_features{num_features}.png\"))"
   ]
  },
  {
   "cell_type": "code",
   "execution_count": null,
   "metadata": {},
   "outputs": [],
   "source": [
    "_ = analyze_lambda_range(train_method=train_RIDGE, num_points=N_2, high_deg=num_features, lam_low=-8.0, lam_high=7.0, seed=42, nth=11, num_lam=101, filename=path_to_results(f\"lambda_range_RIDGE___N{N_2}_maxfeatures{num_features}.png\"))\n",
    "_ = analyze_lambda_range(train_method=train_LASSO, num_points=N_2, high_deg=num_features, lam_low=-8.0, lam_high=7.0, seed=42, nth=11, num_lam=101, filename=path_to_results(f\"lambda_range_LASSO___N{N_2}_maxfeatures{num_features}.png\"))"
   ]
  },
  {
   "cell_type": "code",
   "execution_count": null,
   "metadata": {},
   "outputs": [],
   "source": [
    "# Plots parameter values for the different methods with optimal lambda taken from graphs above.\n",
    "_ = plot_beta_experiment(train_OLS, beta_comp_indeces=[0, 1, 2, 3, 10, 15, 25, 30, 35], num_features=num_features, num_points=N, lam=0.00, seed=42, filename=path_to_results(f\"parameter_plot_OLS___N{N}_features{num_features}.png\"))\n",
    "_ = plot_beta_experiment(train_RIDGE, beta_comp_indeces=[0, 1, 2, 3, 10, 15, 25, 30, 35], num_features=num_features, num_points=N, lam=ridge_lam, seed=42, filename=path_to_results(f\"parameter_plot_RIDGE___N{N}_features{num_features}_lambda{ridge_lam}.png\"))\n",
    "_ = plot_beta_experiment(train_LASSO, beta_comp_indeces=[0, 1, 2, 3, 10, 15, 25, 30, 35], num_features=num_features, num_points=N, lam=lasso_lam, seed=42, filename=path_to_results(f\"parameter_plot_LASSO___N{N}_features{num_features}_lambda{lasso_lam}.png\"))"
   ]
  },
  {
   "attachments": {},
   "cell_type": "markdown",
   "metadata": {},
   "source": [
    "### Lambda Range with Terrain data"
   ]
  },
  {
   "cell_type": "code",
   "execution_count": null,
   "metadata": {},
   "outputs": [],
   "source": [
    "terrain_data = sample_terrain_data(N)"
   ]
  },
  {
   "cell_type": "code",
   "execution_count": null,
   "metadata": {},
   "outputs": [],
   "source": [
    "_ = analyze_lambda_range(train_method=train_RIDGE, high_deg=num_features, lam_low=-8.0, lam_high=7.0, seed=42, nth=11, num_lam=101, data=terrain_data, filename=path_to_results(f\"lambda_range_RIDGE_terrain___N{N}_features{num_features}.png\"))\n",
    "_ = analyze_lambda_range(train_method=train_LASSO, high_deg=num_features, lam_low=-8.0, lam_high=7.0, seed=42, nth=11, num_lam=101, data=terrain_data, filename=path_to_results(f\"lambda_range_LASSO_terrain___N{N}_features{num_features}.png\"))"
   ]
  },
  {
   "cell_type": "code",
   "execution_count": null,
   "metadata": {},
   "outputs": [],
   "source": [
    "_ = plot_beta_experiment(train_OLS, beta_comp_indeces=[0, 1, 2, 3, 10, 15, 25, 30, 35], num_features=num_features, lam=0.00, seed=42, data=terrain_data, filename=path_to_results(f\"parameter_plot_OLS___N{N}_terrain_features{num_features}.png\"))\n",
    "_ = plot_beta_experiment(train_RIDGE, beta_comp_indeces=[0, 1, 2, 3, 10, 15, 25, 30, 35], num_features=num_features, lam=ridge_lam, seed=42, data=terrain_data, filename=path_to_results(f\"parameter_plot_RIDGE_terrain____N{N}_features{num_features}_lambda{ridge_lam}.png\"))\n",
    "_ = plot_beta_experiment(train_LASSO, beta_comp_indeces=[0, 1, 2, 3, 10, 15, 25, 30, 35], num_features=num_features, lam=lasso_lam, seed=42, data=terrain_data, filename=path_to_results(f\"parameter_plot_LASSO_terrain___N{N}_features{num_features}_lambda{lasso_lam}.png\"))"
   ]
  },
  {
   "attachments": {},
   "cell_type": "markdown",
   "metadata": {},
   "source": [
    "### Lambda Range with Noise"
   ]
  },
  {
   "cell_type": "code",
   "execution_count": null,
   "metadata": {},
   "outputs": [],
   "source": [
    "sigma2 = 0.01"
   ]
  },
  {
   "cell_type": "code",
   "execution_count": null,
   "metadata": {},
   "outputs": [],
   "source": [
    "_ = analyze_lambda_range(train_method=train_RIDGE, num_points=N, high_deg=num_features, lam_low=-8.0, lam_high=7.0, seed=42, nth=11, num_lam=101, filename=path_to_results(f\"lambda_range_RIDGE_noise___N{N}_features{num_features}_ss{sigma2}.png\"), sigma2=sigma2)\n",
    "_ = analyze_lambda_range(train_method=train_LASSO, num_points=N, high_deg=num_features, lam_low=-8.0, lam_high=7.0, seed=42, nth=11, num_lam=101, filename=path_to_results(f\"lambda_range_LASSO_noise___N{N}_features{num_features}_ss{sigma2}.png\"), sigma2=sigma2)"
   ]
  },
  {
   "cell_type": "code",
   "execution_count": null,
   "metadata": {},
   "outputs": [],
   "source": [
    "_ = plot_beta_experiment(train_OLS, beta_comp_indeces=[0, 1, 2, 3, 10, 15, 25, 30, 35], num_features=num_features, num_points=N, lam=0.00, seed=42, filename=path_to_results(f\"parameter_plot_OLS_noise___N{N}_features{num_features}_ss{sigma2}.png\"), sigma2=sigma2)\n",
    "_ = plot_beta_experiment(train_RIDGE, beta_comp_indeces=[0, 1, 2, 3, 10, 15, 25, 30, 35], num_features=num_features, num_points=N, lam=ridge_lam, seed=42, filename=path_to_results(f\"parameter_plot_RIDGE_noise___N{N}_features{num_features}_lambda{ridge_lam}_ss{sigma2}.png\"), sigma2=sigma2)\n",
    "_ = plot_beta_experiment(train_LASSO, beta_comp_indeces=[0, 1, 2, 3, 10, 15, 25, 30, 35], num_features=num_features, num_points=N, lam=lasso_lam, seed=42, filename=path_to_results(f\"parameter_plot_LASSO_noise___N{N}_features{num_features}_lambda{lasso_lam}_ss{sigma2}.png\"), sigma2=sigma2)"
   ]
  },
  {
   "cell_type": "code",
   "execution_count": null,
   "metadata": {},
   "outputs": [],
   "source": []
  },
  {
   "cell_type": "code",
   "execution_count": null,
   "metadata": {},
   "outputs": [],
   "source": []
  }
 ],
 "metadata": {
  "kernelspec": {
   "display_name": ".venv",
   "language": "python",
   "name": "python3"
  },
  "language_info": {
   "codemirror_mode": {
    "name": "ipython",
    "version": 3
   },
   "file_extension": ".py",
   "mimetype": "text/x-python",
   "name": "python",
   "nbconvert_exporter": "python",
   "pygments_lexer": "ipython3",
   "version": "3.9.12"
  },
  "orig_nbformat": 4
 },
 "nbformat": 4,
 "nbformat_minor": 2
}
