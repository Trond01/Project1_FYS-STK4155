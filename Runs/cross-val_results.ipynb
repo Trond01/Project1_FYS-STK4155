{
 "cells": [
  {
   "attachments": {},
   "cell_type": "markdown",
   "metadata": {},
   "source": [
    "### Import interface and crerate path"
   ]
  },
  {
   "cell_type": "code",
   "execution_count": null,
   "metadata": {},
   "outputs": [],
   "source": [
    "import sys, os\n",
    "sys.path.append(os.path.abspath(os.path.join('..')))\n",
    "\n",
    "from Code.cross_validation import cross_validation_experiment\n",
    "from Code.regression import fit_OLS, fit_RIDGE, fit_LASSO\n",
    "from Code.utilities import path_to_results, sample_terrain_data, number_of_features\n",
    "\n",
    "# Set the default font size for text elements (e.g., titles, labels)\n",
    "import matplotlib as mpl\n",
    "mpl.rcParams['font.size'] = 14  # Change 14 to your desired font size\n",
    "mpl.rcParams['legend.fontsize'] = 12"
   ]
  },
  {
   "cell_type": "markdown",
   "metadata": {},
   "source": [
    "## Defining methods and styles"
   ]
  },
  {
   "cell_type": "code",
   "execution_count": null,
   "metadata": {},
   "outputs": [],
   "source": [
    "lam_RIDGE = 0.01\n",
    "lam_LASSO = 0.001\n",
    "\n",
    "methods_list = [\n",
    "    {\"fit_func\": fit_OLS, \"lam\": 0, \"name\": \"OLS\", \"styles\": [\"r\", \"r--\"]},\n",
    "    {\"fit_func\": fit_RIDGE, \"lam\": lam_RIDGE, \"name\": \"RIDGE\", \"styles\": [\"b\", \"b--\"]},\n",
    "    {\"fit_func\": fit_LASSO, \"lam\": lam_RIDGE, \"name\": \"LASSO\", \"styles\": [\"g\", \"g--\"]},\n",
    "]"
   ]
  },
  {
   "cell_type": "markdown",
   "metadata": {},
   "source": [
    "### Franke"
   ]
  },
  {
   "cell_type": "code",
   "execution_count": null,
   "metadata": {},
   "outputs": [],
   "source": [
    "deg = 10\n",
    "n_features_crossval = number_of_features(deg)\n",
    "n_points_crossval   = 101\n",
    "\n",
    "start = 1 # Start with constant polynomial \n",
    "\n",
    "\n",
    "for k in [5, 6, 7, 8, 9, 10]:\n",
    "    _ = cross_validation_experiment(k, method_dict_list=methods_list, n_points=n_points_crossval, num_features=n_features_crossval, start=start, \n",
    "                                    filename = path_to_results(f\"crossval_franke___N{n_points_crossval}_d{deg}_k{k}.png\"))"
   ]
  },
  {
   "cell_type": "markdown",
   "metadata": {},
   "source": [
    "### Terrain"
   ]
  },
  {
   "cell_type": "code",
   "execution_count": null,
   "metadata": {},
   "outputs": [],
   "source": [
    "deg = 6\n",
    "n_features_crossval = number_of_features(deg)\n",
    "n_points_crossval   = 101\n",
    "\n",
    "start = 1 # Start with polynomial 1 + x + y\n",
    "\n",
    "data = sample_terrain_data(n_points_crossval)\n",
    "\n",
    "for k in [5, 6, 7, 8, 9, 10]:\n",
    "    _ = cross_validation_experiment(k, method_dict_list=methods_list, data=data, num_features=n_features_crossval, start=start, \n",
    "                                    filename = path_to_results(f\"crossval_terrain___N{n_points_crossval}_d{deg}_k{k}.png\"))"
   ]
  }
 ],
 "metadata": {
  "kernelspec": {
   "display_name": ".venv",
   "language": "python",
   "name": "python3"
  },
  "language_info": {
   "codemirror_mode": {
    "name": "ipython",
    "version": 3
   },
   "file_extension": ".py",
   "mimetype": "text/x-python",
   "name": "python",
   "nbconvert_exporter": "python",
   "pygments_lexer": "ipython3",
   "version": "3.10.11"
  },
  "orig_nbformat": 4
 },
 "nbformat": 4,
 "nbformat_minor": 2
}
