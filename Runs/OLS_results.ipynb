{
 "cells": [
  {
   "cell_type": "code",
   "execution_count": null,
   "metadata": {},
   "outputs": [],
   "source": [
    "import sys, os\n",
    "sys.path.append(os.path.abspath(os.path.join('..')))\n",
    "\n",
    "\n",
    "from Code.experiments import plot_MSE_R2_experiment\n",
    "from Code.regression import train_OLS\n",
    "from Code.utilities import path_to_results, sample_terrain_data\n",
    "\n"
   ]
  },
  {
   "cell_type": "code",
   "execution_count": null,
   "metadata": {},
   "outputs": [],
   "source": [
    "n_points = 70\n",
    "n_features = 40\n",
    "\n",
    "_ = plot_MSE_R2_experiment(train_method=train_OLS,filename=path_to_results(\"franke_ols_MSE_R2.png\"),num_points=n_points, num_features =n_features)\n",
    "\n",
    "\n",
    "terrain_data = sample_terrain_data(n_points=n_points)\n",
    "\n",
    "\n",
    "_ = plot_MSE_R2_experiment(train_method=train_OLS,filename=path_to_results(\"terrain_ols_MSE_R2.png\"),num_points=n_points, num_features =n_features, data=terrain_data)"
   ]
  },
  {
   "cell_type": "code",
   "execution_count": null,
   "metadata": {},
   "outputs": [],
   "source": []
  }
 ],
 "metadata": {
  "kernelspec": {
   "display_name": ".venv",
   "language": "python",
   "name": "python3"
  },
  "language_info": {
   "codemirror_mode": {
    "name": "ipython",
    "version": 3
   },
   "file_extension": ".py",
   "mimetype": "text/x-python",
   "name": "python",
   "nbconvert_exporter": "python",
   "pygments_lexer": "ipython3",
   "version": "3.9.0"
  },
  "orig_nbformat": 4
 },
 "nbformat": 4,
 "nbformat_minor": 2
}
